{
 "cells": [
  {
   "cell_type": "code",
   "execution_count": 46,
   "id": "b6308bd2-e3a9-4277-8f8c-16bce63f9d74",
   "metadata": {},
   "outputs": [],
   "source": [
    "import pandas as pd\n",
    "from sqlalchemy import create_engine"
   ]
  },
  {
   "cell_type": "code",
   "execution_count": 52,
   "id": "f913be9f-0d1c-4550-b942-f8d12eff5056",
   "metadata": {},
   "outputs": [],
   "source": [
    "db_params = {\n",
    "    \"dbname\": \"library\",\n",
    "    \"user\": \"postgres\",\n",
    "    \"password\": \"4473\",\n",
    "    \"host\": \"localhost\",\n",
    "    \"port\": \"5432\"  \n",
    "}\n",
    "\n",
    "engine = create_engine(f\"postgresql+psycopg2://{db_params['user']}:{db_params['password']}@{db_params['host']}:{db_params['port']}/{db_params['dbname']}\")\n"
   ]
  },
  {
   "cell_type": "code",
   "execution_count": 210,
   "id": "8369bbdd-a756-40bc-8ad2-de9b7fbd67e9",
   "metadata": {},
   "outputs": [],
   "source": [
    "#Staging\n",
    "book_copy_df=pd.read_sql('select * from bookcopy',engine)\n",
    "book_df=pd.read_sql('select * from book',engine)\n",
    "employee_df=pd.read_sql('select * from employee',engine)\n",
    "fine_df=pd.read_sql('select * from fine',engine)\n",
    "loan_df=pd.read_sql('select * from loan',engine)\n",
    "member_df=pd.read_sql('select * from member',engine)\n",
    "position_df=pd.read_sql('select * from position',engine)\n",
    "provider_df=pd.read_sql('select * from provider',engine)"
   ]
  },
  {
   "cell_type": "code",
   "execution_count": 222,
   "id": "879e693b-a506-40ea-b997-0406dad5abba",
   "metadata": {},
   "outputs": [],
   "source": [
    "loan_df['loanstart'] = pd.to_datetime(df['loanstart'])\n",
    "loan_df['loanend'] = pd.to_datetime(df['loanend'])"
   ]
  },
  {
   "cell_type": "code",
   "execution_count": 224,
   "id": "eef6c395-1170-45e5-8687-b8bfda484f2f",
   "metadata": {},
   "outputs": [
    {
     "name": "stderr",
     "output_type": "stream",
     "text": [
      "C:\\Users\\butea\\AppData\\Local\\Temp\\ipykernel_23600\\2989250371.py:24: FutureWarning: Downcasting object dtype arrays on .fillna, .ffill, .bfill is deprecated and will change in a future version. Call result.infer_objects(copy=False) instead. To opt-in to the future behavior, set `pd.set_option('future.no_silent_downcasting', True)`\n",
      "  isPaid=df['ispaid'].fillna(True).astype(bool)\n"
     ]
    }
   ],
   "source": [
    "#Transform\n",
    "agg_member_loans_df=loan_df.groupby('memberid').agg(\n",
    "    number_of_loans=('loanid', 'count'),\n",
    "    last_loan_date=('loanstart', 'max')).reset_index()\n",
    "\n",
    "\n",
    "merged_df = fine_df.merge(loan_df, on='loanid')\n",
    "agg_fines_df=merged_df.groupby('memberid').agg(\n",
    "    total_fines_values=('amount', 'sum'),\n",
    "    unpaid_fines_values=('amount', lambda x: x[merged_df.loc[x.index, 'ispaid'] == False].sum())\n",
    ").reset_index()\n",
    "\n",
    "\n",
    "agg_book_availability_df=book_copy_df.groupby('status').agg(\n",
    "    total_books=('copyid','count')).reset_index()\n",
    "\n",
    "df = loan_df.merge(book_copy_df, on='copyid', how='inner')\n",
    "df = df.merge(book_df, on='iban', how='inner')\n",
    "df = df.merge(fine_df, on='loanid', how='left')\n",
    "\n",
    "df = df.assign(\n",
    "    days_borrowed=(df['loanend'] - df['loanstart']).dt.days,\n",
    "    fine_amount=df['amount'].fillna(0),\n",
    "    isPaid=df['ispaid'].fillna(True).astype(bool)\n",
    ")\n",
    "\n",
    "dw_loans_summary=df[['loanid', 'memberid', 'title', 'loanstart', 'loanend', 'days_borrowed', 'fine_amount', 'isPaid']]"
   ]
  },
  {
   "cell_type": "code",
   "execution_count": 226,
   "id": "f52647d4-7ca6-4d4c-aad3-512ab4768aed",
   "metadata": {},
   "outputs": [
    {
     "data": {
      "text/plain": [
       "568"
      ]
     },
     "execution_count": 226,
     "metadata": {},
     "output_type": "execute_result"
    }
   ],
   "source": [
    "#Load\n",
    "agg_member_loans_df.to_sql('agg_member_loans', engine, if_exists='replace', index=False)\n",
    "agg_fines_df.to_sql('agg_fines', engine, if_exists='replace', index=False)\n",
    "agg_book_availability_df.to_sql('agg_book_availability', engine, if_exists='replace', index=False)\n",
    "dw_loans_summary.to_sql('dw_loans_summary', engine, if_exists='replace', index=False)"
   ]
  }
 ],
 "metadata": {
  "kernelspec": {
   "display_name": "Python [conda env:base] *",
   "language": "python",
   "name": "conda-base-py"
  },
  "language_info": {
   "codemirror_mode": {
    "name": "ipython",
    "version": 3
   },
   "file_extension": ".py",
   "mimetype": "text/x-python",
   "name": "python",
   "nbconvert_exporter": "python",
   "pygments_lexer": "ipython3",
   "version": "3.12.7"
  }
 },
 "nbformat": 4,
 "nbformat_minor": 5
}
